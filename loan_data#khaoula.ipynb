{
 "cells": [
  {
   "cell_type": "markdown",
   "id": "5fb59ddd",
   "metadata": {},
   "source": [
    "# 1. Understanding the Data"
   ]
  },
  {
   "cell_type": "markdown",
   "id": "d4efc0cf",
   "metadata": {},
   "source": [
    "Import Libraries¶\n"
   ]
  },
  {
   "cell_type": "code",
   "execution_count": 371,
   "id": "36f53089",
   "metadata": {},
   "outputs": [],
   "source": [
    "import pandas as pd\n",
    "import numpy as np\n",
    "import matplotlib.pyplot as plt\n",
    "import seaborn as sns\n",
    "%matplotlib inline"
   ]
  },
  {
   "cell_type": "markdown",
   "id": "c6109b0d",
   "metadata": {},
   "source": [
    "Read loan_data file "
   ]
  },
  {
   "cell_type": "code",
   "execution_count": 372,
   "id": "788b1585",
   "metadata": {},
   "outputs": [],
   "source": [
    "## ================================================\n",
    "#    Read and explore the data\n",
    "# =================================================\n",
    "df = pd.read_csv('loan_data.csv')\n"
   ]
  },
  {
   "cell_type": "code",
   "execution_count": 373,
   "id": "b57ed380",
   "metadata": {},
   "outputs": [
    {
     "data": {
      "text/html": [
       "<div>\n",
       "<style scoped>\n",
       "    .dataframe tbody tr th:only-of-type {\n",
       "        vertical-align: middle;\n",
       "    }\n",
       "\n",
       "    .dataframe tbody tr th {\n",
       "        vertical-align: top;\n",
       "    }\n",
       "\n",
       "    .dataframe thead th {\n",
       "        text-align: right;\n",
       "    }\n",
       "</style>\n",
       "<table border=\"1\" class=\"dataframe\">\n",
       "  <thead>\n",
       "    <tr style=\"text-align: right;\">\n",
       "      <th></th>\n",
       "      <th>credit.policy</th>\n",
       "      <th>purpose</th>\n",
       "      <th>int.rate</th>\n",
       "      <th>installment</th>\n",
       "      <th>log.annual.inc</th>\n",
       "      <th>dti</th>\n",
       "      <th>fico</th>\n",
       "      <th>days.with.cr.line</th>\n",
       "      <th>revol.bal</th>\n",
       "      <th>revol.util</th>\n",
       "      <th>inq.last.6mths</th>\n",
       "      <th>delinq.2yrs</th>\n",
       "      <th>pub.rec</th>\n",
       "      <th>not.fully.paid</th>\n",
       "    </tr>\n",
       "  </thead>\n",
       "  <tbody>\n",
       "    <tr>\n",
       "      <th>0</th>\n",
       "      <td>1</td>\n",
       "      <td>debt_consolidation</td>\n",
       "      <td>0.119</td>\n",
       "      <td>829.100</td>\n",
       "      <td>11.350</td>\n",
       "      <td>19.480</td>\n",
       "      <td>737</td>\n",
       "      <td>5,639.958</td>\n",
       "      <td>28854</td>\n",
       "      <td>52.100</td>\n",
       "      <td>0</td>\n",
       "      <td>0</td>\n",
       "      <td>0</td>\n",
       "      <td>0</td>\n",
       "    </tr>\n",
       "    <tr>\n",
       "      <th>1</th>\n",
       "      <td>1</td>\n",
       "      <td>credit_card</td>\n",
       "      <td>0.107</td>\n",
       "      <td>228.220</td>\n",
       "      <td>11.082</td>\n",
       "      <td>14.290</td>\n",
       "      <td>707</td>\n",
       "      <td>2,760.000</td>\n",
       "      <td>33623</td>\n",
       "      <td>76.700</td>\n",
       "      <td>0</td>\n",
       "      <td>0</td>\n",
       "      <td>0</td>\n",
       "      <td>0</td>\n",
       "    </tr>\n",
       "    <tr>\n",
       "      <th>2</th>\n",
       "      <td>1</td>\n",
       "      <td>debt_consolidation</td>\n",
       "      <td>0.136</td>\n",
       "      <td>366.860</td>\n",
       "      <td>10.373</td>\n",
       "      <td>11.630</td>\n",
       "      <td>682</td>\n",
       "      <td>4,710.000</td>\n",
       "      <td>3511</td>\n",
       "      <td>25.600</td>\n",
       "      <td>1</td>\n",
       "      <td>0</td>\n",
       "      <td>0</td>\n",
       "      <td>0</td>\n",
       "    </tr>\n",
       "    <tr>\n",
       "      <th>3</th>\n",
       "      <td>1</td>\n",
       "      <td>debt_consolidation</td>\n",
       "      <td>0.101</td>\n",
       "      <td>162.340</td>\n",
       "      <td>11.350</td>\n",
       "      <td>8.100</td>\n",
       "      <td>712</td>\n",
       "      <td>2,699.958</td>\n",
       "      <td>33667</td>\n",
       "      <td>73.200</td>\n",
       "      <td>1</td>\n",
       "      <td>0</td>\n",
       "      <td>0</td>\n",
       "      <td>0</td>\n",
       "    </tr>\n",
       "    <tr>\n",
       "      <th>4</th>\n",
       "      <td>1</td>\n",
       "      <td>credit_card</td>\n",
       "      <td>0.143</td>\n",
       "      <td>102.920</td>\n",
       "      <td>11.300</td>\n",
       "      <td>14.970</td>\n",
       "      <td>667</td>\n",
       "      <td>4,066.000</td>\n",
       "      <td>4740</td>\n",
       "      <td>39.500</td>\n",
       "      <td>0</td>\n",
       "      <td>1</td>\n",
       "      <td>0</td>\n",
       "      <td>0</td>\n",
       "    </tr>\n",
       "  </tbody>\n",
       "</table>\n",
       "</div>"
      ],
      "text/plain": [
       "   credit.policy             purpose  int.rate  installment  log.annual.inc  \\\n",
       "0              1  debt_consolidation     0.119      829.100          11.350   \n",
       "1              1         credit_card     0.107      228.220          11.082   \n",
       "2              1  debt_consolidation     0.136      366.860          10.373   \n",
       "3              1  debt_consolidation     0.101      162.340          11.350   \n",
       "4              1         credit_card     0.143      102.920          11.300   \n",
       "\n",
       "     dti  fico  days.with.cr.line  revol.bal  revol.util  inq.last.6mths  \\\n",
       "0 19.480   737          5,639.958      28854      52.100               0   \n",
       "1 14.290   707          2,760.000      33623      76.700               0   \n",
       "2 11.630   682          4,710.000       3511      25.600               1   \n",
       "3  8.100   712          2,699.958      33667      73.200               1   \n",
       "4 14.970   667          4,066.000       4740      39.500               0   \n",
       "\n",
       "   delinq.2yrs  pub.rec  not.fully.paid  \n",
       "0            0        0               0  \n",
       "1            0        0               0  \n",
       "2            0        0               0  \n",
       "3            0        0               0  \n",
       "4            1        0               0  "
      ]
     },
     "execution_count": 373,
     "metadata": {},
     "output_type": "execute_result"
    }
   ],
   "source": [
    "df.head(5)"
   ]
  },
  {
   "cell_type": "code",
   "execution_count": 374,
   "id": "a94eafe2",
   "metadata": {},
   "outputs": [
    {
     "name": "stdout",
     "output_type": "stream",
     "text": [
      "<class 'pandas.core.frame.DataFrame'>\n",
      "RangeIndex: 9578 entries, 0 to 9577\n",
      "Data columns (total 14 columns):\n",
      " #   Column             Non-Null Count  Dtype  \n",
      "---  ------             --------------  -----  \n",
      " 0   credit.policy      9578 non-null   int64  \n",
      " 1   purpose            9578 non-null   object \n",
      " 2   int.rate           9578 non-null   float64\n",
      " 3   installment        9578 non-null   float64\n",
      " 4   log.annual.inc     9578 non-null   float64\n",
      " 5   dti                9578 non-null   float64\n",
      " 6   fico               9578 non-null   int64  \n",
      " 7   days.with.cr.line  9578 non-null   float64\n",
      " 8   revol.bal          9578 non-null   int64  \n",
      " 9   revol.util         9578 non-null   float64\n",
      " 10  inq.last.6mths     9578 non-null   int64  \n",
      " 11  delinq.2yrs        9578 non-null   int64  \n",
      " 12  pub.rec            9578 non-null   int64  \n",
      " 13  not.fully.paid     9578 non-null   int64  \n",
      "dtypes: float64(6), int64(7), object(1)\n",
      "memory usage: 1.0+ MB\n"
     ]
    }
   ],
   "source": [
    "df.info()"
   ]
  },
  {
   "cell_type": "code",
   "execution_count": 375,
   "id": "222cee40",
   "metadata": {},
   "outputs": [
    {
     "data": {
      "text/plain": [
       "(9578, 14)"
      ]
     },
     "execution_count": 375,
     "metadata": {},
     "output_type": "execute_result"
    }
   ],
   "source": [
    "df.shape"
   ]
  },
  {
   "cell_type": "code",
   "execution_count": 376,
   "id": "cbcfc02e",
   "metadata": {},
   "outputs": [
    {
     "data": {
      "text/html": [
       "<div>\n",
       "<style scoped>\n",
       "    .dataframe tbody tr th:only-of-type {\n",
       "        vertical-align: middle;\n",
       "    }\n",
       "\n",
       "    .dataframe tbody tr th {\n",
       "        vertical-align: top;\n",
       "    }\n",
       "\n",
       "    .dataframe thead th {\n",
       "        text-align: right;\n",
       "    }\n",
       "</style>\n",
       "<table border=\"1\" class=\"dataframe\">\n",
       "  <thead>\n",
       "    <tr style=\"text-align: right;\">\n",
       "      <th></th>\n",
       "      <th>credit.policy</th>\n",
       "      <th>int.rate</th>\n",
       "      <th>installment</th>\n",
       "      <th>log.annual.inc</th>\n",
       "      <th>dti</th>\n",
       "      <th>fico</th>\n",
       "      <th>days.with.cr.line</th>\n",
       "      <th>revol.bal</th>\n",
       "      <th>revol.util</th>\n",
       "      <th>inq.last.6mths</th>\n",
       "      <th>delinq.2yrs</th>\n",
       "      <th>pub.rec</th>\n",
       "      <th>not.fully.paid</th>\n",
       "    </tr>\n",
       "  </thead>\n",
       "  <tbody>\n",
       "    <tr>\n",
       "      <th>count</th>\n",
       "      <td>9,578.000</td>\n",
       "      <td>9,578.000</td>\n",
       "      <td>9,578.000</td>\n",
       "      <td>9,578.000</td>\n",
       "      <td>9,578.000</td>\n",
       "      <td>9,578.000</td>\n",
       "      <td>9,578.000</td>\n",
       "      <td>9,578.000</td>\n",
       "      <td>9,578.000</td>\n",
       "      <td>9,578.000</td>\n",
       "      <td>9,578.000</td>\n",
       "      <td>9,578.000</td>\n",
       "      <td>9,578.000</td>\n",
       "    </tr>\n",
       "    <tr>\n",
       "      <th>mean</th>\n",
       "      <td>0.805</td>\n",
       "      <td>0.123</td>\n",
       "      <td>319.089</td>\n",
       "      <td>10.932</td>\n",
       "      <td>12.607</td>\n",
       "      <td>710.846</td>\n",
       "      <td>4,560.767</td>\n",
       "      <td>16,913.964</td>\n",
       "      <td>46.799</td>\n",
       "      <td>1.577</td>\n",
       "      <td>0.164</td>\n",
       "      <td>0.062</td>\n",
       "      <td>0.160</td>\n",
       "    </tr>\n",
       "    <tr>\n",
       "      <th>std</th>\n",
       "      <td>0.396</td>\n",
       "      <td>0.027</td>\n",
       "      <td>207.071</td>\n",
       "      <td>0.615</td>\n",
       "      <td>6.884</td>\n",
       "      <td>37.971</td>\n",
       "      <td>2,496.930</td>\n",
       "      <td>33,756.190</td>\n",
       "      <td>29.014</td>\n",
       "      <td>2.200</td>\n",
       "      <td>0.546</td>\n",
       "      <td>0.262</td>\n",
       "      <td>0.367</td>\n",
       "    </tr>\n",
       "    <tr>\n",
       "      <th>min</th>\n",
       "      <td>0.000</td>\n",
       "      <td>0.060</td>\n",
       "      <td>15.670</td>\n",
       "      <td>7.548</td>\n",
       "      <td>0.000</td>\n",
       "      <td>612.000</td>\n",
       "      <td>178.958</td>\n",
       "      <td>0.000</td>\n",
       "      <td>0.000</td>\n",
       "      <td>0.000</td>\n",
       "      <td>0.000</td>\n",
       "      <td>0.000</td>\n",
       "      <td>0.000</td>\n",
       "    </tr>\n",
       "    <tr>\n",
       "      <th>25%</th>\n",
       "      <td>1.000</td>\n",
       "      <td>0.104</td>\n",
       "      <td>163.770</td>\n",
       "      <td>10.558</td>\n",
       "      <td>7.213</td>\n",
       "      <td>682.000</td>\n",
       "      <td>2,820.000</td>\n",
       "      <td>3,187.000</td>\n",
       "      <td>22.600</td>\n",
       "      <td>0.000</td>\n",
       "      <td>0.000</td>\n",
       "      <td>0.000</td>\n",
       "      <td>0.000</td>\n",
       "    </tr>\n",
       "    <tr>\n",
       "      <th>50%</th>\n",
       "      <td>1.000</td>\n",
       "      <td>0.122</td>\n",
       "      <td>268.950</td>\n",
       "      <td>10.929</td>\n",
       "      <td>12.665</td>\n",
       "      <td>707.000</td>\n",
       "      <td>4,139.958</td>\n",
       "      <td>8,596.000</td>\n",
       "      <td>46.300</td>\n",
       "      <td>1.000</td>\n",
       "      <td>0.000</td>\n",
       "      <td>0.000</td>\n",
       "      <td>0.000</td>\n",
       "    </tr>\n",
       "    <tr>\n",
       "      <th>75%</th>\n",
       "      <td>1.000</td>\n",
       "      <td>0.141</td>\n",
       "      <td>432.762</td>\n",
       "      <td>11.291</td>\n",
       "      <td>17.950</td>\n",
       "      <td>737.000</td>\n",
       "      <td>5,730.000</td>\n",
       "      <td>18,249.500</td>\n",
       "      <td>70.900</td>\n",
       "      <td>2.000</td>\n",
       "      <td>0.000</td>\n",
       "      <td>0.000</td>\n",
       "      <td>0.000</td>\n",
       "    </tr>\n",
       "    <tr>\n",
       "      <th>max</th>\n",
       "      <td>1.000</td>\n",
       "      <td>0.216</td>\n",
       "      <td>940.140</td>\n",
       "      <td>14.528</td>\n",
       "      <td>29.960</td>\n",
       "      <td>827.000</td>\n",
       "      <td>17,639.958</td>\n",
       "      <td>1,207,359.000</td>\n",
       "      <td>119.000</td>\n",
       "      <td>33.000</td>\n",
       "      <td>13.000</td>\n",
       "      <td>5.000</td>\n",
       "      <td>1.000</td>\n",
       "    </tr>\n",
       "  </tbody>\n",
       "</table>\n",
       "</div>"
      ],
      "text/plain": [
       "       credit.policy  int.rate  installment  log.annual.inc       dti  \\\n",
       "count      9,578.000 9,578.000    9,578.000       9,578.000 9,578.000   \n",
       "mean           0.805     0.123      319.089          10.932    12.607   \n",
       "std            0.396     0.027      207.071           0.615     6.884   \n",
       "min            0.000     0.060       15.670           7.548     0.000   \n",
       "25%            1.000     0.104      163.770          10.558     7.213   \n",
       "50%            1.000     0.122      268.950          10.929    12.665   \n",
       "75%            1.000     0.141      432.762          11.291    17.950   \n",
       "max            1.000     0.216      940.140          14.528    29.960   \n",
       "\n",
       "           fico  days.with.cr.line     revol.bal  revol.util  inq.last.6mths  \\\n",
       "count 9,578.000          9,578.000     9,578.000   9,578.000       9,578.000   \n",
       "mean    710.846          4,560.767    16,913.964      46.799           1.577   \n",
       "std      37.971          2,496.930    33,756.190      29.014           2.200   \n",
       "min     612.000            178.958         0.000       0.000           0.000   \n",
       "25%     682.000          2,820.000     3,187.000      22.600           0.000   \n",
       "50%     707.000          4,139.958     8,596.000      46.300           1.000   \n",
       "75%     737.000          5,730.000    18,249.500      70.900           2.000   \n",
       "max     827.000         17,639.958 1,207,359.000     119.000          33.000   \n",
       "\n",
       "       delinq.2yrs   pub.rec  not.fully.paid  \n",
       "count    9,578.000 9,578.000       9,578.000  \n",
       "mean         0.164     0.062           0.160  \n",
       "std          0.546     0.262           0.367  \n",
       "min          0.000     0.000           0.000  \n",
       "25%          0.000     0.000           0.000  \n",
       "50%          0.000     0.000           0.000  \n",
       "75%          0.000     0.000           0.000  \n",
       "max         13.000     5.000           1.000  "
      ]
     },
     "execution_count": 376,
     "metadata": {},
     "output_type": "execute_result"
    }
   ],
   "source": [
    "df.describe()"
   ]
  },
  {
   "cell_type": "code",
   "execution_count": 377,
   "id": "8fc74c5e",
   "metadata": {},
   "outputs": [
    {
     "data": {
      "text/plain": [
       "int64      7\n",
       "float64    6\n",
       "object     1\n",
       "dtype: int64"
      ]
     },
     "execution_count": 377,
     "metadata": {},
     "output_type": "execute_result"
    }
   ],
   "source": [
    "df.dtypes.value_counts()"
   ]
  },
  {
   "cell_type": "code",
   "execution_count": 378,
   "id": "383fc4e7",
   "metadata": {},
   "outputs": [
    {
     "data": {
      "text/plain": [
       "credit.policy          int64\n",
       "purpose               object\n",
       "int.rate             float64\n",
       "installment          float64\n",
       "log.annual.inc       float64\n",
       "dti                  float64\n",
       "fico                   int64\n",
       "days.with.cr.line    float64\n",
       "revol.bal              int64\n",
       "revol.util           float64\n",
       "inq.last.6mths         int64\n",
       "delinq.2yrs            int64\n",
       "pub.rec                int64\n",
       "not.fully.paid         int64\n",
       "dtype: object"
      ]
     },
     "execution_count": 378,
     "metadata": {},
     "output_type": "execute_result"
    }
   ],
   "source": [
    "df.dtypes"
   ]
  },
  {
   "cell_type": "markdown",
   "id": "06ed999f",
   "metadata": {},
   "source": [
    "# 2. Data Analysis"
   ]
  },
  {
   "cell_type": "markdown",
   "id": "a7acd674",
   "metadata": {},
   "source": [
    "1. Analyse the categorical features of Data  sets\n",
    "2. Visualize the spread of the data\n",
    "3. Encoding\n"
   ]
  },
  {
   "cell_type": "code",
   "execution_count": 379,
   "id": "c3df5b37",
   "metadata": {},
   "outputs": [],
   "source": [
    "cat_features = df.select_dtypes(include=['object']).columns.to_list()"
   ]
  },
  {
   "cell_type": "code",
   "execution_count": 380,
   "id": "69f71e1c",
   "metadata": {},
   "outputs": [
    {
     "data": {
      "text/plain": [
       "['purpose']"
      ]
     },
     "execution_count": 380,
     "metadata": {},
     "output_type": "execute_result"
    }
   ],
   "source": [
    "cat_features"
   ]
  },
  {
   "cell_type": "code",
   "execution_count": 381,
   "id": "b776ba32",
   "metadata": {},
   "outputs": [],
   "source": [
    "cat_df = df.loc[:, cat_features]"
   ]
  },
  {
   "cell_type": "code",
   "execution_count": 382,
   "id": "85f51d15",
   "metadata": {},
   "outputs": [],
   "source": [
    "num_features = [i for i in df.columns if i not in cat_features]"
   ]
  },
  {
   "cell_type": "code",
   "execution_count": 383,
   "id": "92fc65eb",
   "metadata": {},
   "outputs": [],
   "source": [
    "cat_df = df.loc[:, cat_features]"
   ]
  },
  {
   "cell_type": "code",
   "execution_count": 384,
   "id": "a8a9f359",
   "metadata": {},
   "outputs": [],
   "source": [
    "cat_df['credit.policy'] = df['credit.policy']"
   ]
  },
  {
   "cell_type": "code",
   "execution_count": 385,
   "id": "da1f2ce5",
   "metadata": {},
   "outputs": [
    {
     "data": {
      "text/html": [
       "<div>\n",
       "<style scoped>\n",
       "    .dataframe tbody tr th:only-of-type {\n",
       "        vertical-align: middle;\n",
       "    }\n",
       "\n",
       "    .dataframe tbody tr th {\n",
       "        vertical-align: top;\n",
       "    }\n",
       "\n",
       "    .dataframe thead th {\n",
       "        text-align: right;\n",
       "    }\n",
       "</style>\n",
       "<table border=\"1\" class=\"dataframe\">\n",
       "  <thead>\n",
       "    <tr style=\"text-align: right;\">\n",
       "      <th></th>\n",
       "      <th>purpose</th>\n",
       "      <th>credit.policy</th>\n",
       "    </tr>\n",
       "  </thead>\n",
       "  <tbody>\n",
       "    <tr>\n",
       "      <th>0</th>\n",
       "      <td>debt_consolidation</td>\n",
       "      <td>1</td>\n",
       "    </tr>\n",
       "    <tr>\n",
       "      <th>1</th>\n",
       "      <td>credit_card</td>\n",
       "      <td>1</td>\n",
       "    </tr>\n",
       "    <tr>\n",
       "      <th>2</th>\n",
       "      <td>debt_consolidation</td>\n",
       "      <td>1</td>\n",
       "    </tr>\n",
       "    <tr>\n",
       "      <th>3</th>\n",
       "      <td>debt_consolidation</td>\n",
       "      <td>1</td>\n",
       "    </tr>\n",
       "    <tr>\n",
       "      <th>4</th>\n",
       "      <td>credit_card</td>\n",
       "      <td>1</td>\n",
       "    </tr>\n",
       "    <tr>\n",
       "      <th>...</th>\n",
       "      <td>...</td>\n",
       "      <td>...</td>\n",
       "    </tr>\n",
       "    <tr>\n",
       "      <th>9573</th>\n",
       "      <td>all_other</td>\n",
       "      <td>0</td>\n",
       "    </tr>\n",
       "    <tr>\n",
       "      <th>9574</th>\n",
       "      <td>all_other</td>\n",
       "      <td>0</td>\n",
       "    </tr>\n",
       "    <tr>\n",
       "      <th>9575</th>\n",
       "      <td>debt_consolidation</td>\n",
       "      <td>0</td>\n",
       "    </tr>\n",
       "    <tr>\n",
       "      <th>9576</th>\n",
       "      <td>home_improvement</td>\n",
       "      <td>0</td>\n",
       "    </tr>\n",
       "    <tr>\n",
       "      <th>9577</th>\n",
       "      <td>debt_consolidation</td>\n",
       "      <td>0</td>\n",
       "    </tr>\n",
       "  </tbody>\n",
       "</table>\n",
       "<p>9578 rows × 2 columns</p>\n",
       "</div>"
      ],
      "text/plain": [
       "                 purpose  credit.policy\n",
       "0     debt_consolidation              1\n",
       "1            credit_card              1\n",
       "2     debt_consolidation              1\n",
       "3     debt_consolidation              1\n",
       "4            credit_card              1\n",
       "...                  ...            ...\n",
       "9573           all_other              0\n",
       "9574           all_other              0\n",
       "9575  debt_consolidation              0\n",
       "9576    home_improvement              0\n",
       "9577  debt_consolidation              0\n",
       "\n",
       "[9578 rows x 2 columns]"
      ]
     },
     "execution_count": 385,
     "metadata": {},
     "output_type": "execute_result"
    }
   ],
   "source": [
    "cat_df"
   ]
  },
  {
   "cell_type": "code",
   "execution_count": 386,
   "id": "bc00853d",
   "metadata": {},
   "outputs": [
    {
     "name": "stdout",
     "output_type": "stream",
     "text": [
      "PURPOSE\n",
      "debt_consolidation    3957\n",
      "all_other             2331\n",
      "credit_card           1262\n",
      "home_improvement       629\n",
      "small_business         619\n",
      "major_purchase         437\n",
      "educational            343\n",
      "Name: purpose, dtype: int64 \n",
      "\n"
     ]
    }
   ],
   "source": [
    "for i in cat_df.columns:\n",
    "    if i != 'credit.policy':\n",
    "        print(i.upper())\n",
    "        print(cat_df[i].value_counts(), '\\n')"
   ]
  },
  {
   "cell_type": "code",
   "execution_count": 387,
   "id": "50d0e739",
   "metadata": {},
   "outputs": [],
   "source": [
    "def cat_plots(df):\n",
    "    for i in cat_features:\n",
    "        plt.figure(figsize=(20,5))\n",
    "        sns.countplot(df[i])\n",
    "        plt.xticks(rotation=90)\n",
    "        plt.show()"
   ]
  },
  {
   "cell_type": "code",
   "execution_count": 388,
   "id": "5c9269c7",
   "metadata": {},
   "outputs": [
    {
     "data": {
      "image/png": "[encoded data removed]",
      "text/plain": [
       "<Figure size 1440x360 with 1 Axes>"
      ]
     },
     "metadata": {
      "needs_background": "light"
     },
     "output_type": "display_data"
    }
   ],
   "source": [
    "import warnings\n",
    "warnings.simplefilter(action=\"ignore\", category=FutureWarning)\n",
    "\n",
    "cat_plots(df)"
   ]
  },
  {
   "cell_type": "code",
   "execution_count": 389,
   "id": "372dd5ea",
   "metadata": {},
   "outputs": [
    {
     "data": {
      "text/plain": [
       "credit.policy        0\n",
       "purpose              0\n",
       "int.rate             0\n",
       "installment          0\n",
       "log.annual.inc       0\n",
       "dti                  0\n",
       "fico                 0\n",
       "days.with.cr.line    0\n",
       "revol.bal            0\n",
       "revol.util           0\n",
       "inq.last.6mths       0\n",
       "delinq.2yrs          0\n",
       "pub.rec              0\n",
       "not.fully.paid       0\n",
       "dtype: int64"
      ]
     },
     "execution_count": 389,
     "metadata": {},
     "output_type": "execute_result"
    }
   ],
   "source": [
    "# Checking for missing data\n",
    "# ------------------------\n",
    "df.isnull().sum()"
   ]
  },
  {
   "cell_type": "code",
   "execution_count": 390,
   "id": "b25ea655",
   "metadata": {},
   "outputs": [
    {
     "data": {
      "text/plain": [
       "<AxesSubplot:>"
      ]
     },
     "execution_count": 390,
     "metadata": {},
     "output_type": "execute_result"
    },
    {
     "data": {
      "image/png": "[encoded data removed]",
      "text/plain": [
       "<Figure size 1800x720 with 3 Axes>"
      ]
     },
     "metadata": {
      "needs_background": "light"
     },
     "output_type": "display_data"
    }
   ],
   "source": [
    "# for checking null values\n",
    "# Visualize missing values (NaN) values using Missingno Library\n",
    "import missingno as msno\n",
    "msno.bar(df) \n",
    "# there is no NaN Values from the below graph"
   ]
  },
  {
   "cell_type": "code",
   "execution_count": 391,
   "id": "3aa7d396",
   "metadata": {},
   "outputs": [
    {
     "data": {
      "text/plain": [
       "<AxesSubplot:>"
      ]
     },
     "execution_count": 391,
     "metadata": {},
     "output_type": "execute_result"
    },
    {
     "data": {
      "image/png": "[encoded data removed]",
      "text/plain": [
       "<Figure size 432x288 with 2 Axes>"
      ]
     },
     "metadata": {
      "needs_background": "light"
     },
     "output_type": "display_data"
    }
   ],
   "source": [
    "# finding the correlations between the variables and displaying it\n",
    "corr = df.corr()\n",
    "sns.heatmap(corr, annot=True)\n"
   ]
  },
  {
   "cell_type": "code",
   "execution_count": 392,
   "id": "4f11576c",
   "metadata": {},
   "outputs": [],
   "source": [
    "## =======================================================\n",
    "#.     Importing Necessary Tools For the project\n",
    "## =======================================================\n",
    "\n",
    "import pandas as pd; import numpy as np\n",
    "from sklearn.metrics import accuracy_score,  roc_auc_score\n",
    "from sklearn.model_selection import train_test_split\n",
    "\n",
    "# Import models that make the ensemble \n",
    "from sklearn.linear_model import LogisticRegression\n",
    "from sklearn.tree import DecisionTreeClassifier\n",
    "from sklearn.neighbors import KNeighborsClassifier as KNN\n",
    "from sklearn.ensemble import RandomForestClassifier\n",
    "\n",
    "# Import Preprocessing tools\n",
    "from sklearn.preprocessing import StandardScaler\n",
    "\n",
    "# Import VotingClassifier\n",
    "from sklearn.ensemble import VotingClassifier"
   ]
  },
  {
   "cell_type": "code",
   "execution_count": 393,
   "id": "62314836",
   "metadata": {},
   "outputs": [],
   "source": [
    "\n",
    "list = ['credit.policy']\n",
    "X = df.drop(list, axis=1)\n",
    "y = df['credit.policy'].values\n",
    "\n",
    "X_train, X_test, y_train, y_test = train_test_split(\n",
    "                                    X, y,\n",
    "                                    test_size= 0.3,\n",
    "                                    random_state= 1)"
   ]
  },
  {
   "cell_type": "code",
   "execution_count": 394,
   "id": "40ef6efd",
   "metadata": {},
   "outputs": [
    {
     "data": {
      "text/html": [
       "<div>\n",
       "<style scoped>\n",
       "    .dataframe tbody tr th:only-of-type {\n",
       "        vertical-align: middle;\n",
       "    }\n",
       "\n",
       "    .dataframe tbody tr th {\n",
       "        vertical-align: top;\n",
       "    }\n",
       "\n",
       "    .dataframe thead th {\n",
       "        text-align: right;\n",
       "    }\n",
       "</style>\n",
       "<table border=\"1\" class=\"dataframe\">\n",
       "  <thead>\n",
       "    <tr style=\"text-align: right;\">\n",
       "      <th></th>\n",
       "      <th>purpose</th>\n",
       "      <th>int.rate</th>\n",
       "      <th>installment</th>\n",
       "      <th>log.annual.inc</th>\n",
       "      <th>dti</th>\n",
       "      <th>fico</th>\n",
       "      <th>days.with.cr.line</th>\n",
       "      <th>revol.bal</th>\n",
       "      <th>revol.util</th>\n",
       "      <th>inq.last.6mths</th>\n",
       "      <th>delinq.2yrs</th>\n",
       "      <th>pub.rec</th>\n",
       "      <th>not.fully.paid</th>\n",
       "    </tr>\n",
       "  </thead>\n",
       "  <tbody>\n",
       "    <tr>\n",
       "      <th>0</th>\n",
       "      <td>debt_consolidation</td>\n",
       "      <td>0.119</td>\n",
       "      <td>829.100</td>\n",
       "      <td>11.350</td>\n",
       "      <td>19.480</td>\n",
       "      <td>737</td>\n",
       "      <td>5,639.958</td>\n",
       "      <td>28854</td>\n",
       "      <td>52.100</td>\n",
       "      <td>0</td>\n",
       "      <td>0</td>\n",
       "      <td>0</td>\n",
       "      <td>0</td>\n",
       "    </tr>\n",
       "    <tr>\n",
       "      <th>1</th>\n",
       "      <td>credit_card</td>\n",
       "      <td>0.107</td>\n",
       "      <td>228.220</td>\n",
       "      <td>11.082</td>\n",
       "      <td>14.290</td>\n",
       "      <td>707</td>\n",
       "      <td>2,760.000</td>\n",
       "      <td>33623</td>\n",
       "      <td>76.700</td>\n",
       "      <td>0</td>\n",
       "      <td>0</td>\n",
       "      <td>0</td>\n",
       "      <td>0</td>\n",
       "    </tr>\n",
       "    <tr>\n",
       "      <th>2</th>\n",
       "      <td>debt_consolidation</td>\n",
       "      <td>0.136</td>\n",
       "      <td>366.860</td>\n",
       "      <td>10.373</td>\n",
       "      <td>11.630</td>\n",
       "      <td>682</td>\n",
       "      <td>4,710.000</td>\n",
       "      <td>3511</td>\n",
       "      <td>25.600</td>\n",
       "      <td>1</td>\n",
       "      <td>0</td>\n",
       "      <td>0</td>\n",
       "      <td>0</td>\n",
       "    </tr>\n",
       "    <tr>\n",
       "      <th>3</th>\n",
       "      <td>debt_consolidation</td>\n",
       "      <td>0.101</td>\n",
       "      <td>162.340</td>\n",
       "      <td>11.350</td>\n",
       "      <td>8.100</td>\n",
       "      <td>712</td>\n",
       "      <td>2,699.958</td>\n",
       "      <td>33667</td>\n",
       "      <td>73.200</td>\n",
       "      <td>1</td>\n",
       "      <td>0</td>\n",
       "      <td>0</td>\n",
       "      <td>0</td>\n",
       "    </tr>\n",
       "    <tr>\n",
       "      <th>4</th>\n",
       "      <td>credit_card</td>\n",
       "      <td>0.143</td>\n",
       "      <td>102.920</td>\n",
       "      <td>11.300</td>\n",
       "      <td>14.970</td>\n",
       "      <td>667</td>\n",
       "      <td>4,066.000</td>\n",
       "      <td>4740</td>\n",
       "      <td>39.500</td>\n",
       "      <td>0</td>\n",
       "      <td>1</td>\n",
       "      <td>0</td>\n",
       "      <td>0</td>\n",
       "    </tr>\n",
       "  </tbody>\n",
       "</table>\n",
       "</div>"
      ],
      "text/plain": [
       "              purpose  int.rate  installment  log.annual.inc    dti  fico  \\\n",
       "0  debt_consolidation     0.119      829.100          11.350 19.480   737   \n",
       "1         credit_card     0.107      228.220          11.082 14.290   707   \n",
       "2  debt_consolidation     0.136      366.860          10.373 11.630   682   \n",
       "3  debt_consolidation     0.101      162.340          11.350  8.100   712   \n",
       "4         credit_card     0.143      102.920          11.300 14.970   667   \n",
       "\n",
       "   days.with.cr.line  revol.bal  revol.util  inq.last.6mths  delinq.2yrs  \\\n",
       "0          5,639.958      28854      52.100               0            0   \n",
       "1          2,760.000      33623      76.700               0            0   \n",
       "2          4,710.000       3511      25.600               1            0   \n",
       "3          2,699.958      33667      73.200               1            0   \n",
       "4          4,066.000       4740      39.500               0            1   \n",
       "\n",
       "   pub.rec  not.fully.paid  \n",
       "0        0               0  \n",
       "1        0               0  \n",
       "2        0               0  \n",
       "3        0               0  \n",
       "4        0               0  "
      ]
     },
     "execution_count": 394,
     "metadata": {},
     "output_type": "execute_result"
    }
   ],
   "source": [
    "X.head()"
   ]
  },
  {
   "cell_type": "code",
   "execution_count": 395,
   "id": "f0702813",
   "metadata": {},
   "outputs": [],
   "source": [
    "from sklearn.model_selection import KFold, StratifiedKFold\n",
    "from sklearn.preprocessing import LabelEncoder, StandardScaler,OrdinalEncoder\n",
    "from sklearn.metrics import mean_absolute_error, mean_squared_error\n",
    "from sklearn.impute import SimpleImputer"
   ]
  },
  {
   "cell_type": "code",
   "execution_count": 396,
   "id": "feaa63af",
   "metadata": {},
   "outputs": [],
   "source": [
    "def encoder(train, test):\n",
    "    le = LabelEncoder()\n",
    "    for col in train.columns:\n",
    "        if train[col].dtypes == 'object':\n",
    "            train[col] = le.fit_transform(train[col])\n",
    "            le_dict = dict(zip(le.classes_, le.transform(le.classes_)))\n",
    "            test[col] = test[col].apply(lambda x: le_dict.get(x, -1))\n",
    "    return train, test"
   ]
  },
  {
   "cell_type": "code",
   "execution_count": 397,
   "id": "7d742bdb",
   "metadata": {},
   "outputs": [
    {
     "name": "stderr",
     "output_type": "stream",
     "text": [
      "C:\\Users\\user\\AppData\\Local\\Temp/ipykernel_45500/3921136942.py:5: SettingWithCopyWarning:\n",
      "\n",
      "\n",
      "A value is trying to be set on a copy of a slice from a DataFrame.\n",
      "Try using .loc[row_indexer,col_indexer] = value instead\n",
      "\n",
      "See the caveats in the documentation: https://pandas.pydata.org/pandas-docs/stable/user_guide/indexing.html#returning-a-view-versus-a-copy\n",
      "\n",
      "C:\\Users\\user\\AppData\\Local\\Temp/ipykernel_45500/3921136942.py:7: SettingWithCopyWarning:\n",
      "\n",
      "\n",
      "A value is trying to be set on a copy of a slice from a DataFrame.\n",
      "Try using .loc[row_indexer,col_indexer] = value instead\n",
      "\n",
      "See the caveats in the documentation: https://pandas.pydata.org/pandas-docs/stable/user_guide/indexing.html#returning-a-view-versus-a-copy\n",
      "\n"
     ]
    }
   ],
   "source": [
    "train_encoded, test_encoded = encoder(X_train, X_test)"
   ]
  },
  {
   "cell_type": "code",
   "execution_count": 398,
   "id": "a38007a3",
   "metadata": {},
   "outputs": [
    {
     "data": {
      "text/html": [
       "<div>\n",
       "<style scoped>\n",
       "    .dataframe tbody tr th:only-of-type {\n",
       "        vertical-align: middle;\n",
       "    }\n",
       "\n",
       "    .dataframe tbody tr th {\n",
       "        vertical-align: top;\n",
       "    }\n",
       "\n",
       "    .dataframe thead th {\n",
       "        text-align: right;\n",
       "    }\n",
       "</style>\n",
       "<table border=\"1\" class=\"dataframe\">\n",
       "  <thead>\n",
       "    <tr style=\"text-align: right;\">\n",
       "      <th></th>\n",
       "      <th>purpose</th>\n",
       "      <th>int.rate</th>\n",
       "      <th>installment</th>\n",
       "      <th>log.annual.inc</th>\n",
       "      <th>dti</th>\n",
       "      <th>fico</th>\n",
       "      <th>days.with.cr.line</th>\n",
       "      <th>revol.bal</th>\n",
       "      <th>revol.util</th>\n",
       "      <th>inq.last.6mths</th>\n",
       "      <th>delinq.2yrs</th>\n",
       "      <th>pub.rec</th>\n",
       "      <th>not.fully.paid</th>\n",
       "    </tr>\n",
       "  </thead>\n",
       "  <tbody>\n",
       "    <tr>\n",
       "      <th>8673</th>\n",
       "      <td>0</td>\n",
       "      <td>0.132</td>\n",
       "      <td>60.860</td>\n",
       "      <td>10.348</td>\n",
       "      <td>10.850</td>\n",
       "      <td>652</td>\n",
       "      <td>1,169.958</td>\n",
       "      <td>162</td>\n",
       "      <td>54.000</td>\n",
       "      <td>1</td>\n",
       "      <td>0</td>\n",
       "      <td>0</td>\n",
       "      <td>0</td>\n",
       "    </tr>\n",
       "    <tr>\n",
       "      <th>4496</th>\n",
       "      <td>2</td>\n",
       "      <td>0.150</td>\n",
       "      <td>110.870</td>\n",
       "      <td>10.960</td>\n",
       "      <td>20.430</td>\n",
       "      <td>672</td>\n",
       "      <td>5,130.000</td>\n",
       "      <td>6552</td>\n",
       "      <td>95.400</td>\n",
       "      <td>1</td>\n",
       "      <td>1</td>\n",
       "      <td>0</td>\n",
       "      <td>0</td>\n",
       "    </tr>\n",
       "    <tr>\n",
       "      <th>7659</th>\n",
       "      <td>2</td>\n",
       "      <td>0.102</td>\n",
       "      <td>153.830</td>\n",
       "      <td>11.280</td>\n",
       "      <td>20.420</td>\n",
       "      <td>712</td>\n",
       "      <td>6,990.000</td>\n",
       "      <td>61140</td>\n",
       "      <td>60.500</td>\n",
       "      <td>0</td>\n",
       "      <td>0</td>\n",
       "      <td>1</td>\n",
       "      <td>0</td>\n",
       "    </tr>\n",
       "    <tr>\n",
       "      <th>8836</th>\n",
       "      <td>2</td>\n",
       "      <td>0.134</td>\n",
       "      <td>541.890</td>\n",
       "      <td>11.051</td>\n",
       "      <td>16.690</td>\n",
       "      <td>702</td>\n",
       "      <td>4,709.958</td>\n",
       "      <td>19516</td>\n",
       "      <td>68.000</td>\n",
       "      <td>6</td>\n",
       "      <td>0</td>\n",
       "      <td>0</td>\n",
       "      <td>1</td>\n",
       "    </tr>\n",
       "    <tr>\n",
       "      <th>2198</th>\n",
       "      <td>0</td>\n",
       "      <td>0.093</td>\n",
       "      <td>51.120</td>\n",
       "      <td>10.342</td>\n",
       "      <td>19.210</td>\n",
       "      <td>727</td>\n",
       "      <td>4,620.042</td>\n",
       "      <td>714</td>\n",
       "      <td>10.100</td>\n",
       "      <td>3</td>\n",
       "      <td>0</td>\n",
       "      <td>1</td>\n",
       "      <td>0</td>\n",
       "    </tr>\n",
       "    <tr>\n",
       "      <th>...</th>\n",
       "      <td>...</td>\n",
       "      <td>...</td>\n",
       "      <td>...</td>\n",
       "      <td>...</td>\n",
       "      <td>...</td>\n",
       "      <td>...</td>\n",
       "      <td>...</td>\n",
       "      <td>...</td>\n",
       "      <td>...</td>\n",
       "      <td>...</td>\n",
       "      <td>...</td>\n",
       "      <td>...</td>\n",
       "      <td>...</td>\n",
       "    </tr>\n",
       "    <tr>\n",
       "      <th>2895</th>\n",
       "      <td>2</td>\n",
       "      <td>0.125</td>\n",
       "      <td>133.870</td>\n",
       "      <td>11.314</td>\n",
       "      <td>20.910</td>\n",
       "      <td>702</td>\n",
       "      <td>4,590.000</td>\n",
       "      <td>36462</td>\n",
       "      <td>81.000</td>\n",
       "      <td>1</td>\n",
       "      <td>0</td>\n",
       "      <td>0</td>\n",
       "      <td>0</td>\n",
       "    </tr>\n",
       "    <tr>\n",
       "      <th>7813</th>\n",
       "      <td>1</td>\n",
       "      <td>0.122</td>\n",
       "      <td>499.450</td>\n",
       "      <td>11.329</td>\n",
       "      <td>17.020</td>\n",
       "      <td>712</td>\n",
       "      <td>4,320.000</td>\n",
       "      <td>37570</td>\n",
       "      <td>59.500</td>\n",
       "      <td>5</td>\n",
       "      <td>0</td>\n",
       "      <td>0</td>\n",
       "      <td>0</td>\n",
       "    </tr>\n",
       "    <tr>\n",
       "      <th>905</th>\n",
       "      <td>2</td>\n",
       "      <td>0.126</td>\n",
       "      <td>402.080</td>\n",
       "      <td>10.825</td>\n",
       "      <td>10.120</td>\n",
       "      <td>672</td>\n",
       "      <td>8,864.958</td>\n",
       "      <td>16083</td>\n",
       "      <td>70.200</td>\n",
       "      <td>0</td>\n",
       "      <td>0</td>\n",
       "      <td>1</td>\n",
       "      <td>0</td>\n",
       "    </tr>\n",
       "    <tr>\n",
       "      <th>5192</th>\n",
       "      <td>6</td>\n",
       "      <td>0.157</td>\n",
       "      <td>629.750</td>\n",
       "      <td>11.082</td>\n",
       "      <td>9.160</td>\n",
       "      <td>732</td>\n",
       "      <td>4,200.000</td>\n",
       "      <td>13381</td>\n",
       "      <td>49.400</td>\n",
       "      <td>1</td>\n",
       "      <td>0</td>\n",
       "      <td>0</td>\n",
       "      <td>0</td>\n",
       "    </tr>\n",
       "    <tr>\n",
       "      <th>235</th>\n",
       "      <td>2</td>\n",
       "      <td>0.100</td>\n",
       "      <td>95.940</td>\n",
       "      <td>10.127</td>\n",
       "      <td>14.160</td>\n",
       "      <td>692</td>\n",
       "      <td>1,918.042</td>\n",
       "      <td>7121</td>\n",
       "      <td>33.700</td>\n",
       "      <td>0</td>\n",
       "      <td>0</td>\n",
       "      <td>0</td>\n",
       "      <td>0</td>\n",
       "    </tr>\n",
       "  </tbody>\n",
       "</table>\n",
       "<p>6704 rows × 13 columns</p>\n",
       "</div>"
      ],
      "text/plain": [
       "      purpose  int.rate  installment  log.annual.inc    dti  fico  \\\n",
       "8673        0     0.132       60.860          10.348 10.850   652   \n",
       "4496        2     0.150      110.870          10.960 20.430   672   \n",
       "7659        2     0.102      153.830          11.280 20.420   712   \n",
       "8836        2     0.134      541.890          11.051 16.690   702   \n",
       "2198        0     0.093       51.120          10.342 19.210   727   \n",
       "...       ...       ...          ...             ...    ...   ...   \n",
       "2895        2     0.125      133.870          11.314 20.910   702   \n",
       "7813        1     0.122      499.450          11.329 17.020   712   \n",
       "905         2     0.126      402.080          10.825 10.120   672   \n",
       "5192        6     0.157      629.750          11.082  9.160   732   \n",
       "235         2     0.100       95.940          10.127 14.160   692   \n",
       "\n",
       "      days.with.cr.line  revol.bal  revol.util  inq.last.6mths  delinq.2yrs  \\\n",
       "8673          1,169.958        162      54.000               1            0   \n",
       "4496          5,130.000       6552      95.400               1            1   \n",
       "7659          6,990.000      61140      60.500               0            0   \n",
       "8836          4,709.958      19516      68.000               6            0   \n",
       "2198          4,620.042        714      10.100               3            0   \n",
       "...                 ...        ...         ...             ...          ...   \n",
       "2895          4,590.000      36462      81.000               1            0   \n",
       "7813          4,320.000      37570      59.500               5            0   \n",
       "905           8,864.958      16083      70.200               0            0   \n",
       "5192          4,200.000      13381      49.400               1            0   \n",
       "235           1,918.042       7121      33.700               0            0   \n",
       "\n",
       "      pub.rec  not.fully.paid  \n",
       "8673        0               0  \n",
       "4496        0               0  \n",
       "7659        1               0  \n",
       "8836        0               1  \n",
       "2198        1               0  \n",
       "...       ...             ...  \n",
       "2895        0               0  \n",
       "7813        0               0  \n",
       "905         1               0  \n",
       "5192        0               0  \n",
       "235         0               0  \n",
       "\n",
       "[6704 rows x 13 columns]"
      ]
     },
     "execution_count": 398,
     "metadata": {},
     "output_type": "execute_result"
    }
   ],
   "source": [
    "train_encoded"
   ]
  },
  {
   "cell_type": "code",
   "execution_count": 399,
   "id": "624f6e66",
   "metadata": {},
   "outputs": [],
   "source": [
    "final_train = train_encoded.copy()\n",
    "final_test = test_encoded.copy()"
   ]
  },
  {
   "cell_type": "code",
   "execution_count": 400,
   "id": "bf15b7f0",
   "metadata": {},
   "outputs": [],
   "source": [
    "# Scaling the data\n",
    "# ---------------\n",
    "\n",
    "scaler=StandardScaler()\n",
    "\n",
    "X_train = scaler.fit_transform(final_train)\n",
    "\n",
    "X_test = scaler.transform(final_test)"
   ]
  },
  {
   "cell_type": "code",
   "execution_count": 401,
   "id": "65047c8b",
   "metadata": {},
   "outputs": [
    {
     "name": "stdout",
     "output_type": "stream",
     "text": [
      "Logistic Regression : 0.910\n",
      "K Nearest Neighbours: 0.886\n",
      "Classification Tree : 0.900\n"
     ]
    }
   ],
   "source": [
    "# Instantiate logreg\n",
    "logreg = LogisticRegression(random_state=1)\n",
    "\n",
    "# Instantiate knn\n",
    "knn = KNN(n_neighbors=27)\n",
    "\n",
    "# Instantiate dt\n",
    "dt = DecisionTreeClassifier(min_samples_leaf= 0.13, \n",
    "                            random_state=1)\n",
    "\n",
    "# Define the list classifiers\n",
    "classifiers = [('Logistic Regression', logreg), \n",
    "               ('K Nearest Neighbours', knn), \n",
    "               ('Classification Tree', dt)]\n",
    "\n",
    "# Iterate over the pre-defined list of classifiers\n",
    "for clf_name, clf in classifiers:    \n",
    " \n",
    "    # Fit clf to the training set\n",
    "    clf.fit(X_train, y_train)    \n",
    "   \n",
    "    # Predict y_pred\n",
    "    y_pred = clf.predict(X_test)\n",
    "    \n",
    "    # Calculate accuracy\n",
    "    accuracy = accuracy_score(y_pred, y_test) \n",
    "   \n",
    "    # Evaluate clf's accuracy on the test set\n",
    "    print('{:20}: {:.3f}'.format(clf_name,  accuracy))"
   ]
  },
  {
   "cell_type": "code",
   "execution_count": 402,
   "id": "d07db8de",
   "metadata": {},
   "outputs": [
    {
     "name": "stdout",
     "output_type": "stream",
     "text": [
      "Voting Classifier: 0.914\n"
     ]
    }
   ],
   "source": [
    "# Import VotingClassifier from sklearn.ensemble\n",
    "from sklearn.ensemble import VotingClassifier\n",
    "\n",
    "# Instantiate a VotingClassifier vc\n",
    "vc = VotingClassifier(estimators=classifiers)     \n",
    "\n",
    "# Fit vc to the training set\n",
    "vc.fit(X_train, y_train)   \n",
    "\n",
    "# Evaluate the test set predictions\n",
    "y_pred = vc.predict(X_test)\n",
    "\n",
    "# Calculate accuracy score\n",
    "accuracy = accuracy_score(y_pred, y_test)\n",
    "print('Voting Classifier: {:.3f}'.format(accuracy))"
   ]
  },
  {
   "cell_type": "code",
   "execution_count": 403,
   "id": "56e02f39",
   "metadata": {},
   "outputs": [
    {
     "data": {
      "text/html": [
       "<div>\n",
       "<style scoped>\n",
       "    .dataframe tbody tr th:only-of-type {\n",
       "        vertical-align: middle;\n",
       "    }\n",
       "\n",
       "    .dataframe tbody tr th {\n",
       "        vertical-align: top;\n",
       "    }\n",
       "\n",
       "    .dataframe thead th {\n",
       "        text-align: right;\n",
       "    }\n",
       "</style>\n",
       "<table border=\"1\" class=\"dataframe\">\n",
       "  <thead>\n",
       "    <tr style=\"text-align: right;\">\n",
       "      <th></th>\n",
       "      <th>Model</th>\n",
       "      <th>accuracy</th>\n",
       "    </tr>\n",
       "  </thead>\n",
       "  <tbody>\n",
       "    <tr>\n",
       "      <th>0</th>\n",
       "      <td>LogisticRegression</td>\n",
       "      <td>0.910</td>\n",
       "    </tr>\n",
       "    <tr>\n",
       "      <th>1</th>\n",
       "      <td>K Nearest Neighbours</td>\n",
       "      <td>0.886</td>\n",
       "    </tr>\n",
       "    <tr>\n",
       "      <th>2</th>\n",
       "      <td>Classification Tree</td>\n",
       "      <td>0.900</td>\n",
       "    </tr>\n",
       "    <tr>\n",
       "      <th>3</th>\n",
       "      <td>Voting Classifie</td>\n",
       "      <td>0.914</td>\n",
       "    </tr>\n",
       "  </tbody>\n",
       "</table>\n",
       "</div>"
      ],
      "text/plain": [
       "                  Model  accuracy\n",
       "0    LogisticRegression     0.910\n",
       "1  K Nearest Neighbours     0.886\n",
       "2   Classification Tree     0.900\n",
       "3      Voting Classifie     0.914"
      ]
     },
     "execution_count": 403,
     "metadata": {},
     "output_type": "execute_result"
    }
   ],
   "source": [
    "accuracies = {'Model': ['LogisticRegression','K Nearest Neighbours','Classification Tree','Voting Classifie'],\n",
    "     'accuracy' : [logreg.score(X_test,y_test),knn.score(X_test,y_test),dt.score(X_test,y_test),vc.score(X_test,y_test)]}\n",
    "\n",
    "result = pd.DataFrame(data = accuracies)\n",
    "result"
   ]
  },
  {
   "cell_type": "code",
   "execution_count": 404,
   "id": "28195c7d",
   "metadata": {},
   "outputs": [
    {
     "data": {
      "text/plain": [
       "<AxesSubplot:title={'center':' loan  Prediction Accuracy'}, xlabel='Model'>"
      ]
     },
     "execution_count": 404,
     "metadata": {},
     "output_type": "execute_result"
    },
    {
     "data": {
      "image/png": "[encoded data removed]",
      "text/plain": [
       "<Figure size 576x576 with 1 Axes>"
      ]
     },
     "metadata": {
      "needs_background": "light"
     },
     "output_type": "display_data"
    }
   ],
   "source": [
    "result.plot(x='Model', y='accuracy', kind='bar', figsize=(8, 8), title=' loan  Prediction Accuracy', \n",
    "               sort_columns=True)"
   ]
  },
  {
   "cell_type": "code",
   "execution_count": 405,
   "id": "0e1b6a92",
   "metadata": {},
   "outputs": [],
   "source": [
    "import numpy as np\n",
    "import pandas as pd\n",
    "y_pred = pd.DataFrame(y_pred, columns=['predictions']).to_csv('prediction.csv')"
   ]
  },
  {
   "cell_type": "code",
   "execution_count": 406,
   "id": "a41a5d19",
   "metadata": {},
   "outputs": [],
   "source": [
    "## ======================================================================\n",
    "#            Importing the necessary modules and tools\n",
    "## ======================================================================\n",
    "\n",
    "import pandas as pd; import numpy as np \n",
    "import matplotlib.pyplot as plt\n",
    "import seaborn as sns\n",
    "from sklearn.model_selection import train_test_split\n",
    "\n",
    "# Import GradientBoostingRegressor\n",
    "from sklearn.ensemble import GradientBoostingRegressor\n",
    "\n",
    "\n",
    "# Import GradientBoostingClassifier\n",
    "from sklearn.ensemble import GradientBoostingClassifier\n",
    "\n",
    "# from sklearn.metrics import necessary metrics\n",
    "from sklearn.metrics import mean_squared_error as MSE\n",
    "from sklearn.metrics import roc_auc_score , accuracy_score\n",
    "from sklearn.metrics import classification_report, confusion_matrix\n",
    "\n",
    "# Preprocessing tools\n",
    "from sklearn.preprocessing import MinMaxScaler\n",
    "\n",
    "\n",
    "# Set notebook options\n",
    "# --------------------\n",
    "pd.options.display.float_format = '{:,.3f}'.format\n",
    "%matplotlib inline"
   ]
  },
  {
   "cell_type": "code",
   "execution_count": 407,
   "id": "60a94078",
   "metadata": {},
   "outputs": [
    {
     "name": "stdout",
     "output_type": "stream",
     "text": [
      "Test set MSE of gb: 0.033\n",
      "Test set RMSE of gb: 0.182\n"
     ]
    }
   ],
   "source": [
    "## ================================================================\n",
    "#      Training Gradient Boosting Regressor\n",
    "## ================================================================\n",
    "\n",
    "# Instantiate gb\n",
    "# --------------\n",
    "gb = GradientBoostingRegressor(max_depth=1, \n",
    "                              n_estimators= 300,\n",
    "                              random_state=1)\n",
    "\n",
    "# Fit gb to the training set\n",
    "gb.fit(X_train, y_train)\n",
    "\n",
    "# Predict test set labels\n",
    "y_pred = gb.predict(X_test)\n",
    "\n",
    "# Import mean_squared_error as MSE\n",
    "from sklearn.metrics import mean_squared_error as MSE\n",
    "\n",
    "# Compute MSE\n",
    "mse_test = MSE(y_test, y_pred)\n",
    "print('Test set MSE of gb: {:.3f}'.format(mse_test))\n",
    "# Compute RMSE\n",
    "rmse_test = mse_test**0.5\n",
    "\n",
    "# Print RMSE\n",
    "print('Test set RMSE of gb: {:.3f}'.format(rmse_test))"
   ]
  },
  {
   "cell_type": "code",
   "execution_count": 408,
   "id": "4ecb2a11",
   "metadata": {},
   "outputs": [
    {
     "name": "stdout",
     "output_type": "stream",
     "text": [
      "              precision    recall  f1-score   support\n",
      "\n",
      "           0       0.99      0.97      0.98       534\n",
      "           1       0.99      1.00      1.00      2340\n",
      "\n",
      "    accuracy                           0.99      2874\n",
      "   macro avg       0.99      0.98      0.99      2874\n",
      "weighted avg       0.99      0.99      0.99      2874\n",
      "\n"
     ]
    }
   ],
   "source": [
    "gbm_model = GradientBoostingClassifier() \n",
    "gbm_model.fit(X_train, y_train)\n",
    "\n",
    "\n",
    "y_pred_gbm = gbm_model.predict(X_test)\n",
    "\n",
    "print(classification_report(y_test, y_pred_gbm))\n",
    "\n",
    "\n",
    "conf_matrix = confusion_matrix(y_test, y_pred_gbm)\n",
    "#plot_confusion_matrix(conf_matrix, classes=[0,1])"
   ]
  },
  {
   "cell_type": "code",
   "execution_count": 409,
   "id": "49be6b02",
   "metadata": {},
   "outputs": [
    {
     "name": "stdout",
     "output_type": "stream",
     "text": [
      "****************************************\n",
      "The GBM Accuracy score: 0.9927\n",
      "The GBM Area Under ROC: 0.9847\n",
      "****************************************\n"
     ]
    }
   ],
   "source": [
    "print(\"*\"*40)\n",
    "print(\"The GBM Accuracy score: {:0.4f}\".format(accuracy_score(y_test, y_pred_gbm)))\n",
    "print(\"The GBM Area Under ROC: {:0.4f}\".format(roc_auc_score(y_test, y_pred_gbm)))\n",
    "print(\"*\"*40)"
   ]
  },
  {
   "cell_type": "code",
   "execution_count": 410,
   "id": "d772c932",
   "metadata": {},
   "outputs": [
    {
     "name": "stdout",
     "output_type": "stream",
     "text": [
      "****************************************\n",
      "The GBM Accuracy score: 0.9944\n",
      "The GBM Area Under ROC: 0.9987\n",
      "****************************************\n"
     ]
    }
   ],
   "source": [
    "## ==================================================\n",
    "#.      Fitting Gradient Boosting Classifier with \n",
    "#.      preset parameters\n",
    "## ==================================================\n",
    "\n",
    "# Instantiate gb_clf\n",
    "# ------------------\n",
    "\n",
    "gb_clf = GradientBoostingClassifier(max_depth=3, \n",
    "                                   n_estimators= 300,\n",
    "                                   random_state=1)\n",
    "\n",
    "gb_clf.fit(X_train, y_train)\n",
    "\n",
    "# Compute the probabilities of obtaining the positive class\n",
    "# ---------------------------------------------------------\n",
    "y_pred_proba = gb_clf.predict_proba(X_test)[:, 1]\n",
    "\n",
    "y_pred_gb_clf = gb_clf.predict(X_test)\n",
    "# Evaluate test-set roc_auc_score\n",
    "# --------------------------------\n",
    "gb_roc_auc = roc_auc_score(y_test, y_pred_proba)\n",
    "\n",
    "# Print roc_auc_score\n",
    "#--------------------\n",
    "\n",
    "print(\"*\"*40)\n",
    "print(\"The GBM Accuracy score: {:0.4f}\".format(accuracy_score(y_test, y_pred_gb_clf)))\n",
    "print(\"The GBM Area Under ROC: {:0.4f}\".format(gb_roc_auc))\n",
    "print(\"*\"*40)"
   ]
  },
  {
   "cell_type": "code",
   "execution_count": 411,
   "id": "4448a346",
   "metadata": {},
   "outputs": [],
   "source": [
    "## =========================================================\n",
    "#.      Gradient Boosting Classifier Hyperparameter Tuning \n",
    "#.      using GridSearch CV\n",
    "## =========================================================\n",
    "\n",
    "# Import GridsearchCV\n",
    "# -------------------\n",
    "from sklearn.model_selection import GridSearchCV\n",
    "\n",
    "# Create a dictionary of the grid\n",
    "# -----------------------------\n",
    "gbm_grid = {\n",
    "    \"n_estimators\":[100,150,200],\n",
    "    \"learning_rate\": [0.01, 0.05, 0.1, 0.3, 0.5, 0.7, 0.9, 1],\n",
    "    \"max_depth\":[3, 5, 8],\n",
    "    \"max_features\":[\"log2\",\"sqrt\"],\n",
    "    }\n",
    "\n",
    "# Instantiate the grid search CV\n",
    "# ------------------------------\n",
    "grid_gb = GridSearchCV(\n",
    "            estimator=GradientBoostingClassifier(random_state=1),\n",
    "            param_grid= gbm_grid,\n",
    "            cv=5, \n",
    "            n_jobs=8,\n",
    "            verbose = 1) "
   ]
  },
  {
   "cell_type": "code",
   "execution_count": 412,
   "id": "4fa90f9b",
   "metadata": {},
   "outputs": [
    {
     "name": "stdout",
     "output_type": "stream",
     "text": [
      "Fitting 5 folds for each of 144 candidates, totalling 720 fits\n"
     ]
    },
    {
     "data": {
      "text/plain": [
       "GridSearchCV(cv=5, estimator=GradientBoostingClassifier(random_state=1),\n",
       "             n_jobs=8,\n",
       "             param_grid={'learning_rate': [0.01, 0.05, 0.1, 0.3, 0.5, 0.7, 0.9,\n",
       "                                           1],\n",
       "                         'max_depth': [3, 5, 8],\n",
       "                         'max_features': ['log2', 'sqrt'],\n",
       "                         'n_estimators': [100, 150, 200]},\n",
       "             verbose=1)"
      ]
     },
     "execution_count": 412,
     "metadata": {},
     "output_type": "execute_result"
    }
   ],
   "source": [
    "# Fit the grid seach object to the training data\n",
    "# ---------------------------------------------\n",
    "grid_gb.fit(X_train, y_train)"
   ]
  },
  {
   "cell_type": "code",
   "execution_count": 413,
   "id": "12e0f919",
   "metadata": {},
   "outputs": [
    {
     "name": "stdout",
     "output_type": "stream",
     "text": [
      "****************************************\n",
      "learning_rate     : 0.3\n",
      "max_depth         : 5\n",
      "max_features      : log2\n",
      "n_estimators      : 200\n",
      "****************************************\n",
      "The best achieved score: 0.99075\n",
      "****************************************\n"
     ]
    }
   ],
   "source": [
    "# Print the best parameters\n",
    "# -------------------------\n",
    "print(\"*\"*40)\n",
    "for hyper_name, val in grid_gb.best_params_.items():\n",
    "    print(\"{0:18}: {1}\".format(hyper_name, val))\n",
    "\n",
    "# print the best score\n",
    "# ---------------------\n",
    "print(\"*\"*40)\n",
    "print('The best achieved score: {:.5f}'.format(grid_gb.best_score_))\n",
    "print(\"*\"*40)"
   ]
  },
  {
   "cell_type": "code",
   "execution_count": 414,
   "id": "857eefcf",
   "metadata": {},
   "outputs": [
    {
     "name": "stdout",
     "output_type": "stream",
     "text": [
      "        The Gradient Boosting Classification report         \n",
      "************************************************************\n",
      "              precision    recall  f1-score   support\n",
      "\n",
      "           0       0.99      0.98      0.98       534\n",
      "           1       0.99      1.00      1.00      2340\n",
      "\n",
      "    accuracy                           0.99      2874\n",
      "   macro avg       0.99      0.99      0.99      2874\n",
      "weighted avg       0.99      0.99      0.99      2874\n",
      "\n",
      "************************************************************\n"
     ]
    }
   ],
   "source": [
    "# Train the best classifier\n",
    "# --------------------------\n",
    "best_clf = GradientBoostingClassifier(\n",
    "              random_state=1,\n",
    "              learning_rate=0.7, \n",
    "              max_depth=3,\n",
    "              max_features='sqrt', \n",
    "              n_estimators=100)\n",
    "# Fit the best classifier\n",
    "# ------------------------\n",
    "best_clf.fit(X_train, y_train)\n",
    "\n",
    "# Make predictions\n",
    "# ----------------\n",
    "\n",
    "best_preds = best_clf.predict(X_test)\n",
    "\n",
    "print(\"The Gradient Boosting Classification report\".center(60))\n",
    "print(\"*\"*60)\n",
    "print(classification_report(y_test, best_preds))\n",
    "print(\"*\"*60)"
   ]
  },
  {
   "cell_type": "code",
   "execution_count": 415,
   "id": "23e6d993",
   "metadata": {},
   "outputs": [
    {
     "data": {
      "text/html": [
       "<div>\n",
       "<style scoped>\n",
       "    .dataframe tbody tr th:only-of-type {\n",
       "        vertical-align: middle;\n",
       "    }\n",
       "\n",
       "    .dataframe tbody tr th {\n",
       "        vertical-align: top;\n",
       "    }\n",
       "\n",
       "    .dataframe thead th {\n",
       "        text-align: right;\n",
       "    }\n",
       "</style>\n",
       "<table border=\"1\" class=\"dataframe\">\n",
       "  <thead>\n",
       "    <tr style=\"text-align: right;\">\n",
       "      <th></th>\n",
       "      <th>Model</th>\n",
       "      <th>accuracy</th>\n",
       "    </tr>\n",
       "  </thead>\n",
       "  <tbody>\n",
       "    <tr>\n",
       "      <th>0</th>\n",
       "      <td>LogisticRegression</td>\n",
       "      <td>0.910</td>\n",
       "    </tr>\n",
       "    <tr>\n",
       "      <th>1</th>\n",
       "      <td>K Nearest Neighbours</td>\n",
       "      <td>0.886</td>\n",
       "    </tr>\n",
       "    <tr>\n",
       "      <th>2</th>\n",
       "      <td>Classification Tree</td>\n",
       "      <td>0.900</td>\n",
       "    </tr>\n",
       "    <tr>\n",
       "      <th>3</th>\n",
       "      <td>Voting Classifie</td>\n",
       "      <td>0.914</td>\n",
       "    </tr>\n",
       "    <tr>\n",
       "      <th>4</th>\n",
       "      <td>Gradient Boosting Regressor</td>\n",
       "      <td>0.781</td>\n",
       "    </tr>\n",
       "  </tbody>\n",
       "</table>\n",
       "</div>"
      ],
      "text/plain": [
       "                         Model  accuracy\n",
       "0           LogisticRegression     0.910\n",
       "1         K Nearest Neighbours     0.886\n",
       "2          Classification Tree     0.900\n",
       "3             Voting Classifie     0.914\n",
       "4  Gradient Boosting Regressor     0.781"
      ]
     },
     "execution_count": 415,
     "metadata": {},
     "output_type": "execute_result"
    }
   ],
   "source": [
    "accuracies = {'Model': ['LogisticRegression','K Nearest Neighbours','Classification Tree','Voting Classifie','Gradient Boosting Regressor'],\n",
    "     'accuracy' : [logreg.score(X_test,y_test),knn.score(X_test,y_test),dt.score(X_test,y_test),vc.score(X_test,y_test),gb.score(X_test,y_test)]}\n",
    "\n",
    "result = pd.DataFrame(data = accuracies)\n",
    "result"
   ]
  },
  {
   "cell_type": "code",
   "execution_count": null,
   "id": "876da9e2",
   "metadata": {},
   "outputs": [],
   "source": []
  },
  {
   "cell_type": "code",
   "execution_count": null,
   "id": "27650222",
   "metadata": {},
   "outputs": [],
   "source": []
  },
  {
   "cell_type": "code",
   "execution_count": null,
   "id": "58e3d7c5",
   "metadata": {},
   "outputs": [],
   "source": []
  }
 ],
 "metadata": {
  "kernelspec": {
   "display_name": "Python 3 (ipykernel)",
   "language": "python",
   "name": "python3"
  },
  "language_info": {
   "codemirror_mode": {
    "name": "ipython",
    "version": 3
   },
   "file_extension": ".py",
   "mimetype": "text/x-python",
   "name": "python",
   "nbconvert_exporter": "python",
   "pygments_lexer": "ipython3",
   "version": "3.9.7"
  }
 },
 "nbformat": 4,
 "nbformat_minor": 5
}
